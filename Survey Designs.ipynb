{
 "cells": [
  {
   "cell_type": "markdown",
   "metadata": {},
   "source": [
    "Popularity of various Uber drivers.\n",
    "- There is literally a survey at the end of every uber ride. \n",
    "\n",
    "A grocery store wants to know how much people like strawberry, chocolate, and vanilla ice cream. \n",
    "- Set up a stand and have a taste test! Just be mindful of the Coke-Pepsi problem: people chose Pepsi over Coke in a sip test, but chose Coke over Pepsi when given a whole glass at once. Pepsi is sweeter, whcih is why it won the sip test, but Coke is easier to stomah when you drink a whole glass. Unless, of course, youre under the age of 12. Then it's all just Jet Fuel. \n",
    "\n",
    "Trojan wants to know whether their condoms are more popular among straight people or gay people. \n",
    "- People tend to be secretive when buying condoms, so it could be pretty tricky to survey in person. Maybe at a Planned Parenthood? That might be a conflict of interest though, having a private company surveying people in a government funded service center. \n",
    "\n",
    "Recently, rental rates for HappyCars have increased by 30%, which is quite unusual. You want to find out why this is happening and how to keep the increase going. \n",
    "- I think the best way to explore this topic is to look at the mumbers you have already, whatever those may be.\n",
    "\n",
    "Assessing the success rate of a new advertising campaign. \n",
    "- Just monitor sales data.\n",
    "\n",
    "Measuring the effect of nurse/patient ratio on patient recovery rates in hospital wards.\n",
    "- Measure how long patients are in and for which affliction(s), and compare it to nurse:patient ratio. No survey. "
   ]
  }
 ],
 "metadata": {
  "kernelspec": {
   "display_name": "Python 3",
   "language": "python",
   "name": "python3"
  },
  "language_info": {
   "codemirror_mode": {
    "name": "ipython",
    "version": 3
   },
   "file_extension": ".py",
   "mimetype": "text/x-python",
   "name": "python",
   "nbconvert_exporter": "python",
   "pygments_lexer": "ipython3",
   "version": "3.6.4"
  }
 },
 "nbformat": 4,
 "nbformat_minor": 2
}
