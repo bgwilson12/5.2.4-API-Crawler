{
 "cells": [
  {
   "cell_type": "code",
   "execution_count": 64,
   "metadata": {},
   "outputs": [],
   "source": [
    "import praw\n",
    "import pickle\n",
    "import requests\n",
    "import matplotlib.pyplot as plt"
   ]
  },
  {
   "cell_type": "code",
   "execution_count": 65,
   "metadata": {},
   "outputs": [],
   "source": [
    "# I created a pickle file with my credentials in it so that my reddit info is not posted directly on github.\n",
    "# If anyone knows that this still isn't safe... please let me know? Thanks.\n",
    "\n",
    "credentials = pickle.load(open('../credentials.pkl', 'rb'))\n",
    "\n",
    "client_id = credentials['client_id']\n",
    "client_secret = credentials['client_secret']\n",
    "user_agent = credentials['user_agent']\n",
    "username = credentials['username']\n",
    "password = credentials['password']"
   ]
  },
  {
   "cell_type": "code",
   "execution_count": 9,
   "metadata": {},
   "outputs": [],
   "source": [
    "# This is all pretty much pasted directly from the Python Reddit API Wrapper (praw) website.\n",
    "# I only have a slight idea of what it's doing.\n",
    "client_auth = requests.auth.HTTPBasicAuth(client_id, client_secret)\n",
    "post_data = {\"grant_type\": \"password\", \"username\": username, \"password\": password}\n",
    "headers = {\"User-Agent\": user_agent}\n",
    "response = requests.post(\"https://www.reddit.com/api/v1/access_token\", auth=client_auth, data=post_data, headers=headers)\n",
    "headers = {\"Authorization\": \"bearer \"+str(response.json()['access_token']),\n",
    "          \"User-Agent\": user_agent}\n",
    "response = requests.get(\"https://oauth.reddit.com/api/v1/me\", headers=headers)"
   ]
  },
  {
   "cell_type": "code",
   "execution_count": 10,
   "metadata": {},
   "outputs": [],
   "source": [
    "# To interact with reddit's website, you must create a reddit instance.\n",
    "# I am actually not sure if I need the cell above for pulling data off of reddit,\n",
    "# since I will not be posting anything.\n",
    "reddit = praw.Reddit(client_id=client_id,\n",
    "                     client_secret=client_secret,\n",
    "                     user_agent=user_agent,\n",
    "                     username=username,\n",
    "                     password=password)\n"
   ]
  },
  {
   "cell_type": "code",
   "execution_count": 130,
   "metadata": {},
   "outputs": [],
   "source": [
    "comment_authors = {}\n",
    "for submission in reddit.subreddit('LearnMachineLearning').top(limit=50):\n",
    "    submission.comments.replace_more(limit=None)\n",
    "    comment_queue = submission.comments[:]\n",
    "    while comment_queue:\n",
    "        comment = comment_queue.pop(0)\n",
    "        # Some of the comment.author return None, and do not have a name attribute.\n",
    "        # Annoyingly, we have to check for that and I did it in a not very pythonic way.\n",
    "        if comment.author:\n",
    "            new_value = comment_authors.setdefault(comment.author.name, 0) + 1\n",
    "            comment_authors[comment.author.name] = new_value\n",
    "        else:\n",
    "            if comment.body != '[Deleted]':\n",
    "                new_value = comment_authors.setdefault(comment.author, 0) + 1\n",
    "                comment_authors[comment.author] = new_value\n",
    "            else:\n",
    "                pass"
   ]
  },
  {
   "cell_type": "markdown",
   "metadata": {},
   "source": [
    "Let's see if we can find the number of people who have deleted their accounts"
   ]
  },
  {
   "cell_type": "code",
   "execution_count": 144,
   "metadata": {},
   "outputs": [
    {
     "data": {
      "image/png": "[encoded data removed]",
      "text/plain": [
       "<matplotlib.figure.Figure at 0x161836e9a90>"
      ]
     },
     "metadata": {},
     "output_type": "display_data"
    }
   ],
   "source": [
    "plt.hist(comment_authors.values())\n",
    "plt.title('Posts per Active User')\n",
    "plt.xlabel('Number of posts')\n",
    "\n",
    "plt.show()"
   ]
  },
  {
   "cell_type": "code",
   "execution_count": 143,
   "metadata": {},
   "outputs": [
    {
     "name": "stdout",
     "output_type": "stream",
     "text": [
      "Number of deleted accounts: 10\n",
      "Total number of commenting accounts: 196\n",
      "Churn percentage of active users: % 5.10\n"
     ]
    }
   ],
   "source": [
    "print('Number of deleted accounts:', comment_authors[None])\n",
    "print('Total number of commenting accounts:', len(comment_authors))\n",
    "print('Churn percentage of active users: % {0:.2f}'.format(100 * comment_authors[None] / len(comment_authors)))"
   ]
  }
 ],
 "metadata": {
  "kernelspec": {
   "display_name": "Python 3",
   "language": "python",
   "name": "python3"
  },
  "language_info": {
   "codemirror_mode": {
    "name": "ipython",
    "version": 3
   },
   "file_extension": ".py",
   "mimetype": "text/x-python",
   "name": "python",
   "nbconvert_exporter": "python",
   "pygments_lexer": "ipython3",
   "version": "3.6.4"
  }
 },
 "nbformat": 4,
 "nbformat_minor": 2
}
