{
 "cells": [
  {
   "cell_type": "code",
   "execution_count": null,
   "metadata": {},
   "outputs": [],
   "source": [
    "import scrapy\n",
    "from scrapy.crawler import CrawlerProcess\n",
    "\n",
    "class MySpider(scrapy.Spider):\n",
    "    name = 'MS'\n",
    "    \n",
    "    start_urls = [\n",
    "        'https://www.reddit.com/'\n",
    "    ]\n",
    "    \n",
    "    # Let's just see what is returned at first\n",
    "    def parse(self, response):\n",
    "        with open('../mainpage.html', 'wb') as f:\n",
    "            f.write(response.body)\n",
    "            \n",
    "# Instantiate the crawler\n",
    "process = CrawlerProcess()\n",
    "\n",
    "# See what happens\n",
    "process.crawl(MySpider)\n",
    "process.start()"
   ]
  }
 ],
 "metadata": {
  "kernelspec": {
   "display_name": "Python 3",
   "language": "python",
   "name": "python3"
  },
  "language_info": {
   "codemirror_mode": {
    "name": "ipython",
    "version": 3
   },
   "file_extension": ".py",
   "mimetype": "text/x-python",
   "name": "python",
   "nbconvert_exporter": "python",
   "pygments_lexer": "ipython3",
   "version": "3.6.4"
  }
 },
 "nbformat": 4,
 "nbformat_minor": 2
}
